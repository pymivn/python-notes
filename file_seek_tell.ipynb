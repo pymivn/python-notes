{
 "cells": [
  {
   "cell_type": "markdown",
   "metadata": {},
   "source": [
    "# Di chuyển trong file \n",
    "\n",
    "Là một ngôn ngữ bậc cao, Python cung cấp các function giúp người dùng có thể đọc file dễ dàng theo \n",
    "từng dòng hay tất cả nôi dung của file. Vậy nhưng trong những trường hợp cần thiết, Python vẫn \n",
    "có thể can thiệp sâu xuống dưới tầng thấp hơn và thực hiễn những yêu cầu phức tạp hơn.\n",
    "\n",
    "## Mở file - text stream\n",
    "\n",
    "Mở file trong Python sử dụng funtion `open('ten_file')`, mặc định ta sẽ mở file để đọc (read) ở dạng \"text mode\". \n",
    "Ta mặc định file cần mở là một file text (thường là `.txt`, `.csv` ...)"
   ]
  },
  {
   "cell_type": "code",
   "execution_count": 1,
   "metadata": {
    "collapsed": false
   },
   "outputs": [
    {
     "name": "stdout",
     "output_type": "stream",
     "text": [
      "<_io.TextIOWrapper name='/etc/hosts' mode='r' encoding='UTF-8'>\n"
     ]
    }
   ],
   "source": [
    "f = open('/etc/hosts')\n",
    "print(f)"
   ]
  },
  {
   "cell_type": "markdown",
   "metadata": {},
   "source": [
    "Ta đọc toàn bộ nội dung của file vào bộ nhớ bằng method `read`:"
   ]
  },
  {
   "cell_type": "code",
   "execution_count": 2,
   "metadata": {
    "collapsed": false
   },
   "outputs": [
    {
     "name": "stdout",
     "output_type": "stream",
     "text": [
      "918\n"
     ]
    }
   ],
   "source": [
    "content = f.read()\n",
    "print(len(content))"
   ]
  },
  {
   "cell_type": "markdown",
   "metadata": {},
   "source": [
    "Sau khi đọc đến cuối file (gặp ký tự `EOF` - `end of file`, một ký tự đặc biệt đánh dấu sự kết thúc của một file), \n",
    "nếu ta vẫn tiếp tục đọc, sẽ chỉ thu được empty string vì không còn gì để đọc."
   ]
  },
  {
   "cell_type": "code",
   "execution_count": 3,
   "metadata": {
    "collapsed": false
   },
   "outputs": [
    {
     "name": "stdout",
     "output_type": "stream",
     "text": [
      " 0\n"
     ]
    }
   ],
   "source": [
    "new = f.read()\n",
    "print(new, len(new))"
   ]
  },
  {
   "cell_type": "markdown",
   "metadata": {},
   "source": [
    "Bản chất file là một *text stream*, một dòng dữ liệu text. Python cho phép ta biết ta đang ở \n",
    "vị trí nào trong *stream* này với method `tell`"
   ]
  },
  {
   "cell_type": "code",
   "execution_count": 4,
   "metadata": {
    "collapsed": false
   },
   "outputs": [
    {
     "name": "stdout",
     "output_type": "stream",
     "text": [
      "Help on built-in function tell:\n",
      "\n",
      "tell() method of _io.TextIOWrapper instance\n",
      "    Return current stream position.\n",
      "\n"
     ]
    }
   ],
   "source": [
    "help(f.tell)"
   ]
  },
  {
   "cell_type": "code",
   "execution_count": 5,
   "metadata": {
    "collapsed": false
   },
   "outputs": [
    {
     "name": "stdout",
     "output_type": "stream",
     "text": [
      "918\n"
     ]
    }
   ],
   "source": [
    "print(f.tell())"
   ]
  },
  {
   "cell_type": "markdown",
   "metadata": {},
   "source": [
    "Ta đang ở cuối một file chứa 918 bytes, và đang ở vị trí 918. Để quay lại đầu file, thông thường\n",
    "ta có thể đóng file rồi mở lại để quay về đầu *stream*. Thế nhưng Python còn có method `seek` giúp\n",
    "di chuyển đến một vị trí bất kỳ trong *stream*, rất tiện để lên đầu hay xuống cuối\n"
   ]
  },
  {
   "cell_type": "code",
   "execution_count": 7,
   "metadata": {
    "collapsed": false
   },
   "outputs": [
    {
     "name": "stdout",
     "output_type": "stream",
     "text": [
      "Help on built-in function seek:\n",
      "\n",
      "seek(cookie, whence=0, /) method of _io.TextIOWrapper instance\n",
      "    Change stream position.\n",
      "    \n",
      "    Change the stream position to the given byte offset. The offset is\n",
      "    interpreted relative to the position indicated by whence.  Values\n",
      "    for whence are:\n",
      "    \n",
      "    * 0 -- start of stream (the default); offset should be zero or positive\n",
      "    * 1 -- current stream position; offset may be negative\n",
      "    * 2 -- end of stream; offset is usually negative\n",
      "    \n",
      "    Return the new absolute position.\n",
      "\n"
     ]
    }
   ],
   "source": [
    "help(f.seek)"
   ]
  },
  {
   "cell_type": "markdown",
   "metadata": {},
   "source": [
    "Có 3 vị trí khởi đầu `seek` method hỗ trợ: \n",
    "- 0: điểm bắt đầu của stream\n",
    "- 1: điểm hiện tại của stream\n",
    "- 2: điếm cuối của stream.\n",
    "\n",
    "cookie hay offset là vị trí lệch đi so với điểm khởi đầu, rõ ràng nếu ta đang lấy điểm khởi đầu là \n",
    "đầu stream (0), offset phải là 0 hoặc số dương"
   ]
  },
  {
   "cell_type": "code",
   "execution_count": 8,
   "metadata": {
    "collapsed": false
   },
   "outputs": [
    {
     "name": "stdout",
     "output_type": "stream",
     "text": [
      "0\n"
     ]
    }
   ],
   "source": [
    "f.seek(0, 0) # về đầu file \n",
    "print(f.tell())"
   ]
  },
  {
   "cell_type": "markdown",
   "metadata": {},
   "source": [
    "Còn khi ở cuối file, offset phải là 0 hoặc một số âm để chọn một vị trí trước vị trí cuối cùng"
   ]
  },
  {
   "cell_type": "code",
   "execution_count": 10,
   "metadata": {
    "collapsed": false
   },
   "outputs": [
    {
     "name": "stdout",
     "output_type": "stream",
     "text": [
      "918\n"
     ]
    }
   ],
   "source": [
    "f.seek(0, 2)\n",
    "print(f.tell())"
   ]
  },
  {
   "cell_type": "markdown",
   "metadata": {},
   "source": [
    "Vì vậy, thay vì phải đóng file rồi mở lại để đọc từ đầu, chỉ cần dùng `seek`:"
   ]
  },
  {
   "cell_type": "code",
   "execution_count": 13,
   "metadata": {
    "collapsed": false
   },
   "outputs": [
    {
     "name": "stdout",
     "output_type": "stream",
     "text": [
      "127.0.0.1   localhos\n"
     ]
    }
   ],
   "source": [
    "f.seek(0, 0)\n",
    "data_again = f.read()\n",
    "print(data_again[:20])"
   ]
  },
  {
   "cell_type": "markdown",
   "metadata": {},
   "source": [
    "Để giúp code dễ đọc hơn, thay vì dùng các giá trị 0, 1, 2 cho `whence`, có thể dùng các hằng số có sẵn trong standard lib `io`"
   ]
  },
  {
   "cell_type": "code",
   "execution_count": 15,
   "metadata": {
    "collapsed": false
   },
   "outputs": [
    {
     "name": "stdout",
     "output_type": "stream",
     "text": [
      "0 1 2\n"
     ]
    }
   ],
   "source": [
    "print(io.SEEK_SET, io.SEEK_CUR, io.SEEK_END)"
   ]
  },
  {
   "cell_type": "markdown",
   "metadata": {},
   "source": [
    "## Di chuyển trong binary file\n"
   ]
  },
  {
   "cell_type": "code",
   "execution_count": 16,
   "metadata": {
    "collapsed": false
   },
   "outputs": [
    {
     "name": "stdout",
     "output_type": "stream",
     "text": [
      "<_io.BufferedReader name='/Users/hvn/Downloads/2015016-OdeToJoy-Beethoven-violin-solo.wav'>\n"
     ]
    }
   ],
   "source": [
    "bf = open('/Users/hvn/Downloads/2015016-OdeToJoy-Beethoven-violin-solo.wav', 'rb')\n",
    "print(bf)"
   ]
  },
  {
   "cell_type": "code",
   "execution_count": 17,
   "metadata": {
    "collapsed": false
   },
   "outputs": [
    {
     "data": {
      "text/plain": [
       "True"
      ]
     },
     "execution_count": 17,
     "metadata": {},
     "output_type": "execute_result"
    }
   ],
   "source": [
    "bf.seekable()"
   ]
  },
  {
   "cell_type": "code",
   "execution_count": 18,
   "metadata": {
    "collapsed": false
   },
   "outputs": [
    {
     "name": "stdout",
     "output_type": "stream",
     "text": [
      "1101342\n"
     ]
    }
   ],
   "source": [
    "print(bf.seek(0, io.SEEK_END))"
   ]
  },
  {
   "cell_type": "code",
   "execution_count": 19,
   "metadata": {
    "collapsed": false
   },
   "outputs": [
    {
     "data": {
      "text/plain": [
       "1101342"
      ]
     },
     "execution_count": 19,
     "metadata": {},
     "output_type": "execute_result"
    }
   ],
   "source": [
    "bf.tell()"
   ]
  },
  {
   "cell_type": "code",
   "execution_count": 22,
   "metadata": {
    "collapsed": false
   },
   "outputs": [
    {
     "name": "stdout",
     "output_type": "stream",
     "text": [
      "<class 'bytes'>\n"
     ]
    }
   ],
   "source": [
    "bf.seek(0, io.SEEK_SET)\n",
    "sound_data = bf.read()\n",
    "print(type(sound_data))"
   ]
  },
  {
   "cell_type": "code",
   "execution_count": 23,
   "metadata": {
    "collapsed": false
   },
   "outputs": [
    {
     "data": {
      "text/plain": [
       "1101342"
      ]
     },
     "execution_count": 23,
     "metadata": {},
     "output_type": "execute_result"
    }
   ],
   "source": [
    "len(sound_data)"
   ]
  },
  {
   "cell_type": "markdown",
   "metadata": {},
   "source": [
    "Ta có thể sử dụng `seek` và `tell` giống như text file.\n",
    "\n",
    "##  Ứng dung\n",
    "\n",
    "Viết một chương trình giả lập `tail -f` với những tính năng cao cấp hơn như xử lý logic của mỗi dòng trước \n",
    "khi in ra màn hình:"
   ]
  },
  {
   "cell_type": "code",
   "execution_count": null,
   "metadata": {
    "collapsed": false
   },
   "outputs": [
    {
     "name": "stdout",
     "output_type": "stream",
     "text": [
      "Got PYMI        456         1.300000\n"
     ]
    }
   ],
   "source": [
    "import time \n",
    "\n",
    "# Tạo file \n",
    "fd =  open('/tmp/data_stream', 'w').write('AAPL, 123, 0.5\\nGOOG, 345, -0.2\\n')\n",
    "# Mở file rồi di chuyển xuống cuối\n",
    "f = open('/tmp/data_stream')\n",
    "f.seek(0, io.SEEK_END)\n",
    "\n",
    "# Lặp vô hạn đọc các dòng mới\n",
    "while True:\n",
    "    line = f.readline()\n",
    "    # Không có dòng nào mới, đọc tiếp từ file\n",
    "    if not line:\n",
    "        time.sleep(0.1)\n",
    "        continue\n",
    "    # Xử lý logic nếu có dòng mới trong file\n",
    "    name, price, change = line.split(',')\n",
    "    change = float(change)\n",
    "    if float(change) > 0:\n",
    "        print('Got {0:10s} {1:10s} {2:10f}'.format(name, price, change))"
   ]
  },
  {
   "cell_type": "markdown",
   "metadata": {},
   "source": [
    "Chạy câu lệnh sau để ghi nối đuôi file /tmp/data_steam:\n",
    "\n",
    "```\n",
    "$ echo \"PYMI, 456, 1.3\" >> /tmp/data_stream\n",
    "```\n",
    "\n",
    "Với đoạn code đơn giản trên, ta đã nhái lại được lệnh `tail -f`, lại thêm khả năng xử lý logic mà nếu với `tail -f`\n",
    "và các câu lệnh trên UNIX khác khá vất vả mới thực hiện được."
   ]
  }
 ],
 "metadata": {
  "kernelspec": {
   "display_name": "Python 3",
   "language": "python",
   "name": "python3"
  },
  "language_info": {
   "codemirror_mode": {
    "name": "ipython",
    "version": 3
   },
   "file_extension": ".py",
   "mimetype": "text/x-python",
   "name": "python",
   "nbconvert_exporter": "python",
   "pygments_lexer": "ipython3",
   "version": "3.5.1"
  }
 },
 "nbformat": 4,
 "nbformat_minor": 0
}
